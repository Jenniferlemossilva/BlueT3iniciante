{
  "nbformat": 4,
  "nbformat_minor": 0,
  "metadata": {
    "colab": {
      "name": "T3C5AULA02.ipynb",
      "provenance": [],
      "collapsed_sections": [],
      "authorship_tag": "ABX9TyP35K8fonAAN7IUYVt8BLXl",
      "include_colab_link": true
    },
    "kernelspec": {
      "name": "python3",
      "display_name": "Python 3"
    },
    "language_info": {
      "name": "python"
    }
  },
  "cells": [
    {
      "cell_type": "markdown",
      "metadata": {
        "id": "view-in-github",
        "colab_type": "text"
      },
      "source": [
        "<a href=\"https://colab.research.google.com/github/Jenniferlemossilva/BlueT3iniciante/blob/main/T3C5AULA02.ipynb\" target=\"_parent\"><img src=\"https://colab.research.google.com/assets/colab-badge.svg\" alt=\"Open In Colab\"/></a>"
      ]
    },
    {
      "cell_type": "code",
      "metadata": {
        "colab": {
          "base_uri": "https://localhost:8080/"
        },
        "id": "WsauvSS3mV1A",
        "outputId": "1fb8c7b2-9edb-474d-d816-d2ec3b55918c"
      },
      "source": [
        "igpm=31\n",
        "valor_aluguel_atual=float(input(\"qual valor atual aluguel?\"))\n",
        "aumento=(igpm/100)*valor_aluguel_atual\n",
        "print(\"vai aumentar\",aumento)\n",
        "valor_final=valor_aluguel_atual + aumento\n",
        "print(f\"O valor apos reajuste é d {valor_final}\")\n"
      ],
      "execution_count": null,
      "outputs": [
        {
          "output_type": "stream",
          "text": [
            "qual valor atual aluguel?1000\n",
            "vai aumentar 310.0\n",
            "O valor apos reajuste é d 1310.0\n"
          ],
          "name": "stdout"
        }
      ]
    },
    {
      "cell_type": "code",
      "metadata": {
        "id": "aqsYzqUJ0FmC",
        "colab": {
          "base_uri": "https://localhost:8080/"
        },
        "outputId": "a44672df-7a62-4130-8911-aace78a27554"
      },
      "source": [
        "var1=250\n",
        "var1a=100\n",
        "var2='250'\n",
        "var2a='100'\n",
        "var3= 'batman \"que ri\" do quadrinho'\n",
        "Var4='de um universo parelelo'\n",
        "concatenação=var2+var2a\n",
        "print(type(var1))\n",
        "print(type(var2))\n",
        "print()\n",
        "print(var2+var2a)\n"
      ],
      "execution_count": null,
      "outputs": [
        {
          "output_type": "stream",
          "text": [
            "<class 'int'>\n",
            "<class 'str'>\n",
            "\n",
            "250100\n"
          ],
          "name": "stdout"
        }
      ]
    },
    {
      "cell_type": "code",
      "metadata": {
        "colab": {
          "base_uri": "https://localhost:8080/"
        },
        "id": "Eu9liBZL_txp",
        "outputId": "5bf1d15e-5170-41df-b4be-25df740ec7d9"
      },
      "source": [
        "nome=input(\"Ola,Qual o seu nome?\").title()\n",
        "print(f\"Bem vindo(a){nome}!\")"
      ],
      "execution_count": null,
      "outputs": [
        {
          "output_type": "stream",
          "text": [
            "Ola,Qual o seu nome?jose\n",
            "Bem vindo(a)Jose!\n"
          ],
          "name": "stdout"
        }
      ]
    },
    {
      "cell_type": "code",
      "metadata": {
        "colab": {
          "base_uri": "https://localhost:8080/"
        },
        "id": "shpoBqzyD2hb",
        "outputId": "17170ca0-dc70-41bc-b7e6-4ab43cd11a63"
      },
      "source": [
        "frase=input(\"Digite uma frase)\\n\")\n",
        "print(frase.upper().replace(\" \",\"\"))"
      ],
      "execution_count": null,
      "outputs": [
        {
          "output_type": "stream",
          "text": [
            "Digite uma frase)\n",
            "Una aula perfeita\n",
            "UNAAULAPERFEITA\n"
          ],
          "name": "stdout"
        }
      ]
    },
    {
      "cell_type": "code",
      "metadata": {
        "colab": {
          "base_uri": "https://localhost:8080/",
          "height": 129
        },
        "id": "OTIl-tqVF3DQ",
        "outputId": "79763e86-baf7-4330-a727-17b137036bd9"
      },
      "source": [
        "altura= float(input(\"Qual a sua altura?\\nM: \").replace(',' ,'.'))\n",
        "print(peso)=float(input(\"Qual o seu peso?\\nkg:\").replace(',' ,'.' ))\n",
        "print(type(peso))"
      ],
      "execution_count": 33,
      "outputs": [
        {
          "output_type": "error",
          "ename": "SyntaxError",
          "evalue": "ignored",
          "traceback": [
            "\u001b[0;36m  File \u001b[0;32m\"<ipython-input-33-8b80d9efeecb>\"\u001b[0;36m, line \u001b[0;32m2\u001b[0m\n\u001b[0;31m    print(peso)=float(input(\"Qual o seu peso?\\nkg:\").replace(',' ,'.' ))\u001b[0m\n\u001b[0m                                                                        ^\u001b[0m\n\u001b[0;31mSyntaxError\u001b[0m\u001b[0;31m:\u001b[0m can't assign to function call\n"
          ]
        }
      ]
    }
  ]
}